{
 "cells": [
  {
   "cell_type": "code",
   "execution_count": 24,
   "metadata": {},
   "outputs": [
    {
     "data": {
      "text/plain": [
       "[<matplotlib.lines.Line2D at 0x24b8bbd3760>]"
      ]
     },
     "execution_count": 24,
     "metadata": {},
     "output_type": "execute_result"
    },
    {
     "data": {
      "image/png": "[encoded data removed]",
      "text/plain": [
       "<Figure size 432x288 with 1 Axes>"
      ]
     },
     "metadata": {
      "needs_background": "light"
     },
     "output_type": "display_data"
    }
   ],
   "source": [
    "import random\n",
    "position = 0\n",
    "walk = [position]\n",
    "steps = 1000\n",
    "for i in range(steps):\n",
    "    step = 1 if random.randint(0,1) else -1\n",
    "    position += step\n",
    "    walk.append(position)\n",
    "import matplotlib.pyplot as plt\n",
    "plt.plot(walk[:100])"
   ]
  },
  {
   "cell_type": "code",
   "execution_count": 25,
   "metadata": {},
   "outputs": [
    {
     "data": {
      "text/plain": [
       "array([ -1,   0,   1,   0,  -1,  -2,  -1,   0,  -1,  -2,  -1,   0,  -1,\n",
       "         0,   1,   0,   1,   0,   1,   2,   1,   0,  -1,   0,   1,   2,\n",
       "         1,   2,   3,   4,   5,   4,   5,   6,   5,   4,   5,   4,   5,\n",
       "         4,   5,   4,   5,   6,   5,   4,   3,   2,   1,   0,  -1,  -2,\n",
       "        -3,  -2,  -3,  -4,  -3,  -2,  -3,  -4,  -5,  -4,  -5,  -6,  -7,\n",
       "        -8,  -9, -10,  -9, -10,  -9, -10, -11, -10,  -9, -10,  -9,  -8,\n",
       "        -9,  -8,  -7,  -8,  -9,  -8,  -9,  -8,  -9, -10,  -9, -10,  -9,\n",
       "        -8,  -7,  -8,  -9, -10,  -9,  -8,  -9, -10,  -9, -10,  -9, -10,\n",
       "        -9,  -8,  -7,  -6,  -7,  -8,  -9,  -8,  -7,  -6,  -5,  -4,  -5,\n",
       "        -6,  -5,  -4,  -5,  -4,  -5,  -6,  -7,  -8,  -7,  -8,  -9,  -8,\n",
       "        -9, -10, -11, -12, -11, -12, -13, -12, -13, -14, -13, -12, -11,\n",
       "       -10, -11, -12, -13, -12, -13, -14, -13, -14, -15, -16, -15, -14,\n",
       "       -13, -12, -13, -14, -13, -12, -13, -12, -11, -10, -11, -12, -11,\n",
       "       -12, -11, -10,  -9, -10,  -9,  -8,  -7,  -8,  -7,  -8,  -9, -10,\n",
       "       -11, -10, -11, -10,  -9, -10,  -9, -10, -11, -10, -11, -10, -11,\n",
       "       -10,  -9,  -8,  -7,  -6,  -5,  -4,  -3,  -4,  -5,  -4,  -5,  -4,\n",
       "        -5,  -6,  -5,  -4,  -3,  -4,  -3,  -4,  -5,  -6,  -7,  -8,  -7,\n",
       "        -6,  -7,  -8,  -9, -10,  -9,  -8,  -7,  -8,  -7,  -6,  -5,  -6,\n",
       "        -5,  -4,  -3,  -4,  -3,  -4,  -5,  -6,  -7,  -6,  -7,  -6,  -5,\n",
       "        -6,  -5,  -4,  -5,  -4,  -5,  -6,  -5,  -6,  -7,  -8,  -9, -10,\n",
       "       -11, -10,  -9, -10,  -9,  -8,  -9, -10, -11, -12, -11, -12, -11,\n",
       "       -10,  -9, -10, -11, -12, -13, -14, -15, -16, -17, -16, -17, -16,\n",
       "       -15, -16, -17, -16, -15, -14, -15, -14, -15, -14, -13, -12, -11,\n",
       "       -12, -13, -14, -15, -14, -13, -12, -11, -10,  -9, -10, -11, -12,\n",
       "       -13, -12, -13, -14, -13, -14, -15, -14, -13, -14, -13, -12, -13,\n",
       "       -12, -11, -12, -13, -14, -13, -12, -13, -12, -13, -14, -15, -14,\n",
       "       -15, -16, -17, -16, -17, -18, -17, -16, -15, -16, -15, -14, -15,\n",
       "       -14, -15, -14, -13, -12, -11, -12, -13, -12, -11, -10, -11, -12,\n",
       "       -11, -12, -13, -14, -15, -16, -15, -14, -13, -12, -11, -10,  -9,\n",
       "       -10, -11, -10, -11, -10,  -9, -10,  -9,  -8,  -7,  -6,  -7,  -6,\n",
       "        -5,  -6,  -7,  -6,  -5,  -4,  -5,  -4,  -5,  -4,  -3,  -4,  -5,\n",
       "        -6,  -7,  -8,  -7,  -8,  -9,  -8,  -7,  -8,  -7,  -8,  -9, -10,\n",
       "        -9, -10,  -9,  -8,  -7,  -8,  -7,  -6,  -7,  -6,  -5,  -4,  -5,\n",
       "        -4,  -5,  -6,  -5,  -4,  -3,  -4,  -5,  -4,  -3,  -2,  -1,   0,\n",
       "        -1,  -2,  -3,  -2,  -3,  -4,  -3,  -2,  -1,   0,  -1,   0,   1,\n",
       "         2,   1,   0,  -1,   0,  -1,  -2,  -1,   0,  -1,   0,  -1,   0,\n",
       "        -1,  -2,  -3,  -4,  -3,  -2,  -1,  -2,  -3,  -2,  -3,  -4,  -3,\n",
       "        -4,  -5,  -6,  -7,  -6,  -7,  -6,  -5,  -6,  -7,  -8,  -9, -10,\n",
       "       -11, -12, -13, -14, -15, -16, -15, -14, -15, -16, -17, -16, -17,\n",
       "       -16, -15, -14, -13, -14, -15, -14, -13, -14, -15, -14, -15, -16,\n",
       "       -17, -16, -17, -16, -15, -16, -15, -14, -15, -16, -15, -14, -13,\n",
       "       -12, -11, -12, -13, -12, -11, -10, -11, -10, -11, -12, -13, -12,\n",
       "       -11, -10,  -9, -10, -11, -10,  -9, -10, -11, -10,  -9,  -8,  -7,\n",
       "        -6,  -7,  -6,  -7,  -6,  -7,  -6,  -5,  -4,  -3,  -4,  -3,  -2,\n",
       "        -1,  -2,  -1,   0,  -1,  -2,  -1,  -2,  -1,  -2,  -1,  -2,  -3,\n",
       "        -2,  -3,  -2,  -1,   0,   1,   0,  -1,  -2,  -1,   0,  -1,  -2,\n",
       "        -3,  -2,  -1,   0,  -1,   0,  -1,  -2,  -3,  -2,  -1,  -2,  -3,\n",
       "        -4,  -3,  -4,  -3,  -4,  -3,  -2,  -3,  -4,  -5,  -6,  -7,  -6,\n",
       "        -5,  -4,  -3,  -2,  -1,  -2,  -3,  -4,  -5,  -4,  -5,  -4,  -3,\n",
       "        -2,  -1,   0,   1,   2,   3,   4,   3,   2,   3,   4,   3,   4,\n",
       "         3,   4,   3,   4,   3,   2,   3,   2,   3,   2,   3,   4,   5,\n",
       "         6,   7,   8,   7,   6,   7,   8,   7,   8,   9,   8,   7,   8,\n",
       "         9,  10,   9,   8,   9,   8,   7,   6,   5,   4,   5,   6,   7,\n",
       "         6,   5,   4,   5,   4,   5,   6,   7,   8,   7,   8,   9,  10,\n",
       "         9,   8,   7,   6,   7,   6,   7,   6,   5,   6,   5,   4,   3,\n",
       "         2,   3,   4,   3,   4,   5,   4,   3,   4,   5,   6,   5,   6,\n",
       "         7,   6,   5,   6,   5,   4,   3,   2,   1,   0,   1,   2,   1,\n",
       "         2,   3,   2,   1,   0,  -1,   0,   1,   0,  -1,   0,  -1,   0,\n",
       "         1,   2,   3,   4,   3,   2,   1,   0,   1,   0,  -1,   0,   1,\n",
       "         2,   1,   0,   1,   0,  -1,   0,  -1,  -2,  -3,  -2,  -3,  -2,\n",
       "        -3,  -4,  -5,  -6,  -5,  -4,  -3,  -2,  -1,  -2,  -1,  -2,  -3,\n",
       "        -4,  -5,  -6,  -5,  -4,  -3,  -4,  -3,  -2,  -1,   0,   1,   0,\n",
       "         1,   2,   1,   0,  -1,  -2,  -1,   0,  -1,  -2,  -1,   0,   1,\n",
       "         2,   3,   2,   1,   2,   1,   2,   1,   0,  -1,  -2,  -3,  -2,\n",
       "        -1,  -2,  -3,  -2,  -3,  -2,  -1,   0,  -1,  -2,  -1,   0,   1,\n",
       "         0,   1,   2,   3,   4,   5,   4,   5,   6,   7,   6,   5,   4,\n",
       "         3,   2,   3,   4,   3,   2,   3,   4,   5,   4,   3,   4,   3,\n",
       "         4,   5,   6,   5,   6,   5,   6,   5,   6,   5,   4,   3,   4,\n",
       "         5,   6,   5,   6,   5,   4,   5,   4,   3,   4,   5,   4,   5,\n",
       "         6,   5,   6,   5,   6,   7,   8,   7,   6,   7,   8,   9,  10,\n",
       "         9,  10,  11,  10,  11,  10,   9,   8,   7,   6,   5,   6,   5,\n",
       "         4,   3,   4,   5,   6,   7,   8,   7,   6,   7,   6,   5,   6,\n",
       "         5,   4,   3,   4,   3,   2,   1,   0,   1,   2,   3,   2,   1,\n",
       "         0,  -1,  -2,  -3,  -4,  -3,  -4,  -5,  -6,  -7,  -6,  -7,  -6,\n",
       "        -7,  -6,  -7,  -8,  -9, -10,  -9,  -8,  -9, -10,  -9,  -8,  -9,\n",
       "       -10,  -9,  -8,  -7,  -8,  -7,  -8,  -7,  -6,  -7,  -8,  -7,  -6,\n",
       "        -7,  -8,  -7,  -8,  -7,  -8,  -9,  -8,  -9,  -8,  -9, -10],\n",
       "      dtype=int32)"
      ]
     },
     "execution_count": 25,
     "metadata": {},
     "output_type": "execute_result"
    }
   ],
   "source": [
    "import numpy as np\n",
    "nsteps = 1000\n",
    "draws = np.random.randint(0, 2, size = nsteps)\n",
    "steps = np.where(draws > 0, 1, -1)\n",
    "walk = steps.cumsum()\n",
    "walk"
   ]
  },
  {
   "cell_type": "code",
   "execution_count": 7,
   "metadata": {},
   "outputs": [
    {
     "data": {
      "text/plain": [
       "-13"
      ]
     },
     "execution_count": 7,
     "metadata": {},
     "output_type": "execute_result"
    }
   ],
   "source": [
    "walk.min()"
   ]
  },
  {
   "cell_type": "code",
   "execution_count": 8,
   "metadata": {},
   "outputs": [
    {
     "data": {
      "text/plain": [
       "26"
      ]
     },
     "execution_count": 8,
     "metadata": {},
     "output_type": "execute_result"
    }
   ],
   "source": [
    "walk.max()"
   ]
  },
  {
   "cell_type": "code",
   "execution_count": 9,
   "metadata": {},
   "outputs": [
    {
     "data": {
      "text/plain": [
       "array([[ -1,  -2,  -3, ...,   8,   7,   8],\n",
       "       [ -1,   0,   1, ...,  58,  59,  58],\n",
       "       [  1,   0,   1, ...,  12,  13,  14],\n",
       "       ...,\n",
       "       [ -1,  -2,  -3, ...,  -2,  -1,  -2],\n",
       "       [  1,   0,  -1, ..., -34, -33, -32],\n",
       "       [ -1,   0,  -1, ...,  -8,  -7,  -8]])"
      ]
     },
     "execution_count": 9,
     "metadata": {},
     "output_type": "execute_result"
    }
   ],
   "source": [
    "nwalks = 5000\n",
    "nsteps = 1000\n",
    "draws = np.random.randint(0, 2, size = (nwalks, nsteps)) # 0 or 1\n",
    "steps = np.where(draws > 0, 1, -1)\n",
    "walks = steps.cumsum(1)\n",
    "walks"
   ]
  },
  {
   "cell_type": "code",
   "execution_count": 11,
   "metadata": {},
   "outputs": [
    {
     "data": {
      "text/plain": [
       "139"
      ]
     },
     "execution_count": 11,
     "metadata": {},
     "output_type": "execute_result"
    }
   ],
   "source": [
    "walks.max()"
   ]
  },
  {
   "cell_type": "code",
   "execution_count": 12,
   "metadata": {},
   "outputs": [
    {
     "data": {
      "text/plain": [
       "-111"
      ]
     },
     "execution_count": 12,
     "metadata": {},
     "output_type": "execute_result"
    }
   ],
   "source": [
    "walks.min()"
   ]
  },
  {
   "cell_type": "code",
   "execution_count": 13,
   "metadata": {},
   "outputs": [
    {
     "data": {
      "text/plain": [
       "array([False,  True, False, ...,  True,  True, False])"
      ]
     },
     "execution_count": 13,
     "metadata": {},
     "output_type": "execute_result"
    }
   ],
   "source": [
    "hits30 = (np.abs(walks) >= 30).any(1)\n",
    "hits30"
   ]
  },
  {
   "cell_type": "code",
   "execution_count": 14,
   "metadata": {},
   "outputs": [
    {
     "data": {
      "text/plain": [
       "3364"
      ]
     },
     "execution_count": 14,
     "metadata": {},
     "output_type": "execute_result"
    }
   ],
   "source": [
    "hits30.sum()"
   ]
  },
  {
   "cell_type": "code",
   "execution_count": 16,
   "metadata": {},
   "outputs": [
    {
     "data": {
      "text/plain": [
       "511.79488703923903"
      ]
     },
     "execution_count": 16,
     "metadata": {},
     "output_type": "execute_result"
    }
   ],
   "source": [
    "crossing_times = (np.abs(walks[hits30]) >= 30).argmax(1)\n",
    "crossing_times.mean()"
   ]
  },
  {
   "cell_type": "code",
   "execution_count": 18,
   "metadata": {},
   "outputs": [
    {
     "data": {
      "text/plain": [
       "array([[ 0.51617644,  0.07441026,  0.09328227, ...,  0.01787627,\n",
       "         0.50638956, -0.33886802],\n",
       "       [-0.14408705, -0.19843615, -0.06962848, ..., -0.15082818,\n",
       "        -0.14943984, -0.06698082],\n",
       "       [-0.41076139,  0.25694682,  0.1094264 , ...,  0.09903322,\n",
       "         0.06137678,  0.21747044],\n",
       "       ...,\n",
       "       [-0.00617241, -0.25473597, -0.16502012, ..., -0.28192719,\n",
       "        -0.04768678, -0.06520985],\n",
       "       [-0.02854556,  0.16387962, -0.0252153 , ..., -0.17875955,\n",
       "        -0.12525718, -0.01818089],\n",
       "       [-0.10361011,  0.44065049,  0.06216505, ..., -0.33641986,\n",
       "         0.27160845,  0.23767862]])"
      ]
     },
     "execution_count": 18,
     "metadata": {},
     "output_type": "execute_result"
    }
   ],
   "source": [
    "steps = np.random.normal(loc = 0, scale = 0.25,\n",
    "                        size = (nwalks, nsteps))\n",
    "steps"
   ]
  },
  {
   "cell_type": "code",
   "execution_count": null,
   "metadata": {},
   "outputs": [],
   "source": []
  }
 ],
 "metadata": {
  "kernelspec": {
   "display_name": "Python 3",
   "language": "python",
   "name": "python3"
  },
  "language_info": {
   "codemirror_mode": {
    "name": "ipython",
    "version": 3
   },
   "file_extension": ".py",
   "mimetype": "text/x-python",
   "name": "python",
   "nbconvert_exporter": "python",
   "pygments_lexer": "ipython3",
   "version": "3.8.3"
  }
 },
 "nbformat": 4,
 "nbformat_minor": 2
}
